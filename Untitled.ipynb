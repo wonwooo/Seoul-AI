{
 "cells": [
  {
   "cell_type": "code",
   "execution_count": 40,
   "metadata": {},
   "outputs": [],
   "source": [
    "import urllib.request\n",
    "import requests\n",
    "from bs4 import BeautifulSoup"
   ]
  },
  {
   "cell_type": "code",
   "execution_count": 59,
   "metadata": {},
   "outputs": [],
   "source": [
    "data_url = 'http://www.garak.co.kr/publicdata/dataOpen.do?id=2785&passwd=dnvkf0757!&dataid=data7&pagesize=10\\\n",
    "&pageidx=1&portal.templet=false&s_ycs_gubun=2&s_pos_gubun=1&s_ymd=20140506&s_pum_cd=15100\\\n",
    "&s_unit_qty=10&s_unit_cd=01'"
   ]
  },
  {
   "cell_type": "code",
   "execution_count": 63,
   "metadata": {},
   "outputs": [],
   "source": [
    "url= 'http://www.garak.co.kr/publicdata/dataOpen.do?id=2785&passwd=dnvkf0757!&dataid=getPrice4_fruitsItem\\\n",
    "&pagesize=20&pageidx=2&portal.templet=false'"
   ]
  },
  {
   "cell_type": "code",
   "execution_count": 83,
   "metadata": {},
   "outputs": [],
   "source": [
    "getcode_url = \"http://www.garak.co.kr/publicdata/dataOpen.do?id=2785&passwd=dnvkf0757!&dataid=gk_pumcd&pagesize=20&pageidx=3&portal.templet=false\""
   ]
  },
  {
   "cell_type": "code",
   "execution_count": 84,
   "metadata": {},
   "outputs": [],
   "source": [
    "res = requests.get(getcode_url)"
   ]
  },
  {
   "cell_type": "code",
   "execution_count": 85,
   "metadata": {},
   "outputs": [],
   "source": [
    "soup = BeautifulSoup(res.content, 'html.parser')"
   ]
  },
  {
   "cell_type": "code",
   "execution_count": 104,
   "metadata": {},
   "outputs": [],
   "source": [
    "code_info = {}\n",
    "for item in soup.find_all('list'):\n",
    "    code_info[item.find('s_nm').get_text()] = item.find('s_gosa').get_text()"
   ]
  },
  {
   "cell_type": "code",
   "execution_count": 105,
   "metadata": {},
   "outputs": [
    {
     "data": {
      "text/plain": [
       "{'감말랭이': '41802',\n",
       " '감숭어': '62802',\n",
       " '감자': '15200',\n",
       " '감자 대지': '15203',\n",
       " '감자 수미': '15205',\n",
       " '감자 수입': '15250',\n",
       " '감자 추백': '15206',\n",
       " '갑오징어': '76200',\n",
       " '갓기타': '21799',\n",
       " '강낭콩': '32203'}"
      ]
     },
     "execution_count": 105,
     "metadata": {},
     "output_type": "execute_result"
    }
   ],
   "source": [
    "code_info"
   ]
  },
  {
   "cell_type": "code",
   "execution_count": 35,
   "metadata": {},
   "outputs": [],
   "source": [
    "response = urllib.request.urlopen(request).read()"
   ]
  },
  {
   "cell_type": "code",
   "execution_count": 37,
   "metadata": {},
   "outputs": [
    {
     "name": "stdout",
     "output_type": "stream",
     "text": [
      "b'\\r\\n\\r\\n\\r\\n\\r\\n\\r\\n\\r\\n\\r\\n\\r\\n\\r\\n\\r\\n\\r\\n<lists>\\n<list_total_count>706</list_total_count>\\n<list>\\n<FULLCODE><![CDATA[22303,10,01]]></FULLCODE>\\n<PUM_CD><![CDATA[22303]]></PUM_CD>\\n<UNIT_QTY><![CDATA[10]]></UNIT_QTY>\\n<UNIT_CD><![CDATA[01]]></UNIT_CD>\\n<PUM_NM><![CDATA[\\xea\\xb0\\x80\\xec\\x8b\\x9c\\xec\\x98\\xa4\\xec\\x9d\\xb4 10 kg\\xec\\x83\\x81\\xec\\x9e\\x90]]></PUM_NM>\\n</list>\\n<list>\\n<FULLCODE><![CDATA[22303,15,01]]></FULLCODE>\\n<PUM_CD><![CDATA[22303]]></PUM_CD>\\n<UNIT_QTY><![CDATA[15]]></UNIT_QTY>\\n<UNIT_CD><![CDATA[01]]></UNIT_CD>\\n<PUM_NM><![CDATA[\\xea\\xb0\\x80\\xec\\x8b\\x9c\\xec\\x98\\xa4\\xec\\x9d\\xb4 15 kg\\xec\\x83\\x81\\xec\\x9e\\x90]]></PUM_NM>\\n</list>\\n<list>\\n<FULLCODE><![CDATA[22303,20,01]]></FULLCODE>\\n<PUM_CD><![CDATA[22303]]></PUM_CD>\\n<UNIT_QTY><![CDATA[20]]></UNIT_QTY>\\n<UNIT_CD><![CDATA[01]]></UNIT_CD>\\n<PUM_NM><![CDATA[\\xea\\xb0\\x80\\xec\\x8b\\x9c\\xec\\x98\\xa4\\xec\\x9d\\xb4 20 kg\\xec\\x83\\x81\\xec\\x9e\\x90]]></PUM_NM>\\n</list>\\n<list>\\n<FULLCODE><![CDATA[22303,50,68]]></FULLCODE>\\n<PUM_CD><![CDATA[22303]]></PUM_CD>\\n<UNIT_QTY><![CDATA[50]]></UNIT_QTY>\\n<UNIT_CD><![CDATA[68]]></UNIT_CD>\\n<PUM_NM><![CDATA[\\xea\\xb0\\x80\\xec\\x8b\\x9c\\xec\\x98\\xa4\\xec\\x9d\\xb4 50 \\xea\\xb0\\x9c]]></PUM_NM>\\n</list>\\n<list>\\n<FULLCODE><![CDATA[22800,10,01]]></FULLCODE>\\n<PUM_CD><![CDATA[22800]]></PUM_CD>\\n<UNIT_QTY><![CDATA[10]]></UNIT_QTY>\\n<UNIT_CD><![CDATA[01]]></UNIT_CD>\\n<PUM_NM><![CDATA[\\xea\\xb0\\x80\\xec\\xa7\\x80 10 kg\\xec\\x83\\x81\\xec\\x9e\\x90]]></PUM_NM>\\n</list>\\n<list>\\n<FULLCODE><![CDATA[22800,15,01]]></FULLCODE>\\n<PUM_CD><![CDATA[22800]]></PUM_CD>\\n<UNIT_QTY><![CDATA[15]]></UNIT_QTY>\\n<UNIT_CD><![CDATA[01]]></UNIT_CD>\\n<PUM_NM><![CDATA[\\xea\\xb0\\x80\\xec\\xa7\\x80 15 kg\\xec\\x83\\x81\\xec\\x9e\\x90]]></PUM_NM>\\n</list>\\n<list>\\n<FULLCODE><![CDATA[22800,20,18]]></FULLCODE>\\n<PUM_CD><![CDATA[22800]]></PUM_CD>\\n<UNIT_QTY><![CDATA[20]]></UNIT_QTY>\\n<UNIT_CD><![CDATA[18]]></UNIT_CD>\\n<PUM_NM><![CDATA[\\xea\\xb0\\x80\\xec\\xa7\\x80 20 kg\\xeb\\x8b\\xa8]]></PUM_NM>\\n</list>\\n<list>\\n<FULLCODE><![CDATA[22800,20,01]]></FULLCODE>\\n<PUM_CD><![CDATA[22800]]></PUM_CD>\\n<UNIT_QTY><![CDATA[20]]></UNIT_QTY>\\n<UNIT_CD><![CDATA[01]]></UNIT_CD>\\n<PUM_NM><![CDATA[\\xea\\xb0\\x80\\xec\\xa7\\x80 20 kg\\xec\\x83\\x81\\xec\\x9e\\x90]]></PUM_NM>\\n</list>\\n<list>\\n<FULLCODE><![CDATA[22800,5,01]]></FULLCODE>\\n<PUM_CD><![CDATA[22800]]></PUM_CD>\\n<UNIT_QTY><![CDATA[5]]></UNIT_QTY>\\n<UNIT_CD><![CDATA[01]]></UNIT_CD>\\n<PUM_NM><![CDATA[\\xea\\xb0\\x80\\xec\\xa7\\x80 5 kg\\xec\\x83\\x81\\xec\\x9e\\x90]]></PUM_NM>\\n</list>\\n<list>\\n<FULLCODE><![CDATA[22800,6,01]]></FULLCODE>\\n<PUM_CD><![CDATA[22800]]></PUM_CD>\\n<UNIT_QTY><![CDATA[6]]></UNIT_QTY>\\n<UNIT_CD><![CDATA[01]]></UNIT_CD>\\n<PUM_NM><![CDATA[\\xea\\xb0\\x80\\xec\\xa7\\x80 6 kg\\xec\\x83\\x81\\xec\\x9e\\x90]]></PUM_NM>\\n</list>\\n</lists>\\n\\r\\n\\r\\n'\n"
     ]
    }
   ],
   "source": [
    "print(response)"
   ]
  },
  {
   "cell_type": "code",
   "execution_count": 22,
   "metadata": {},
   "outputs": [],
   "source": [
    "import xml.etree.ElementTree as etree"
   ]
  },
  {
   "cell_type": "code",
   "execution_count": 23,
   "metadata": {},
   "outputs": [],
   "source": [
    "tree = etree.parse(response)"
   ]
  },
  {
   "cell_type": "code",
   "execution_count": 24,
   "metadata": {},
   "outputs": [],
   "source": [
    "root = tree.getroot()"
   ]
  },
  {
   "cell_type": "code",
   "execution_count": 30,
   "metadata": {},
   "outputs": [
    {
     "data": {
      "text/plain": [
       "[]"
      ]
     },
     "execution_count": 30,
     "metadata": {},
     "output_type": "execute_result"
    }
   ],
   "source": [
    "root.findall('DANWI')"
   ]
  },
  {
   "cell_type": "code",
   "execution_count": null,
   "metadata": {},
   "outputs": [],
   "source": [
    "'''\n",
    "#import\n",
    "import urllib.request\n",
    " \n",
    "#애플리케이션 클라이언트 id 및 secret\n",
    "client_id = \"[자신의 client id]\" \n",
    "client_secret = \"[자신의 client secret]\"\n",
    " \n",
    "#도서검색 url\n",
    "#디폴트(json) https://openapi.naver.com/v1/search/book?query=python&display=3&sort=count\n",
    "#json 방식 https://openapi.naver.com/v1/search/book.json?query=python&display=3&sort=count\n",
    "#xml 방식  https://openapi.naver.com/v1/search/book.xml?query=python&display=3&sort=count\n",
    "url = \"https://openapi.naver.com/v1/search/book.json\"\n",
    "option = \"&display=3&sort=count\"\n",
    "query = \"?query=\"+urllib.parse.quote(input(\"질의:\"))\n",
    "url_query = url + query + option\n",
    " \n",
    "#Open API 검색 요청 개체 설정\n",
    "request = urllib.request.Request(url_query)\n",
    "request.add_header(\"X-Naver-Client-Id\",client_id)\n",
    "request.add_header(\"X-Naver-Client-Secret\",client_secret)\n",
    " \n",
    "#검색 요청 및 처리\n",
    "response = urllib.request.urlopen(request)\n",
    "rescode = response.getcode()\n",
    "if(rescode == 200):\n",
    "    response_body = response.read()\n",
    "    print(response_body.decode('utf-8'))\n",
    "else:\n",
    "    print(\"Error code:\"+rescode)\n",
    "'''"
   ]
  }
 ],
 "metadata": {
  "kernelspec": {
   "display_name": "Python 3",
   "language": "python",
   "name": "python3"
  },
  "language_info": {
   "codemirror_mode": {
    "name": "ipython",
    "version": 3
   },
   "file_extension": ".py",
   "mimetype": "text/x-python",
   "name": "python",
   "nbconvert_exporter": "python",
   "pygments_lexer": "ipython3",
   "version": "3.7.1"
  }
 },
 "nbformat": 4,
 "nbformat_minor": 2
}
